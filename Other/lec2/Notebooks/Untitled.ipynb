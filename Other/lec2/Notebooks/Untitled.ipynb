{
 "cells": [
  {
   "cell_type": "code",
   "execution_count": 1,
   "metadata": {},
   "outputs": [
    {
     "name": "stdout",
     "output_type": "stream",
     "text": [
      "[[ 1.3180931   0.16748304]\n",
      " [-0.41745956 -0.39072427]\n",
      " [-0.87169638  1.02338239]\n",
      " [ 0.45574185 -1.04776372]\n",
      " [-0.56502375  0.7507018 ]\n",
      " [-0.91831501 -0.91207134]]\n"
     ]
    }
   ],
   "source": [
    "import numpy\n",
    "print(numpy.random.randn(6,2))"
   ]
  },
  {
   "cell_type": "code",
   "execution_count": null,
   "metadata": {},
   "outputs": [],
   "source": []
  }
 ],
 "metadata": {
  "kernelspec": {
   "display_name": "Python 3",
   "language": "python",
   "name": "python3"
  },
  "language_info": {
   "codemirror_mode": {
    "name": "ipython",
    "version": 3
   },
   "file_extension": ".py",
   "mimetype": "text/x-python",
   "name": "python",
   "nbconvert_exporter": "python",
   "pygments_lexer": "ipython3",
   "version": "3.8.1"
  }
 },
 "nbformat": 4,
 "nbformat_minor": 4
}
